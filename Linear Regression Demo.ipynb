{
  "cells": [
    {
      "cell_type": "code",
      "execution_count": 1,
      "id": "0360ddc6",
      "metadata": {
        "id": "0360ddc6"
      },
      "outputs": [],
      "source": [
        "import numpy as np\n",
        "import pandas as pd\n",
        "import matplotlib.pyplot as plt\n",
        "from MLLibrary import LinearRegression, Utilities, StandardizationScale, Metrics\n"
      ]
    },
    {
      "cell_type": "code",
      "execution_count": 2,
      "id": "22aa5866",
      "metadata": {
        "colab": {
          "base_uri": "https://localhost:8080/"
        },
        "id": "22aa5866",
        "outputId": "274044e4-ff96-4a91-fb41-e57007027028"
      },
      "outputs": [
        {
          "name": "stdout",
          "output_type": "stream",
          "text": [
            "Train data: (35000, 20) (35000, 1)\n",
            "CV data: (15000, 20) (15000, 1)\n"
          ]
        }
      ],
      "source": [
        "x_data, y_data = Utilities.load_data('data/Lineardata_train.csv',start_x = 1,start_y = 0,end_y = 1)\n",
        "x_train,y_train, x_cv,y_cv = Utilities.split_data(70, x_data, y_data)\n",
        "print(f'Train data: {x_train.shape} {y_train.shape}')\n",
        "print(f'CV data: {x_cv.shape} {y_cv.shape}')"
      ]
    },
    {
      "cell_type": "code",
      "execution_count": 3,
      "id": "1722d097",
      "metadata": {
        "colab": {
          "base_uri": "https://localhost:8080/"
        },
        "id": "1722d097",
        "outputId": "ac5c881b-c846-4312-92e3-f23444f9ced3"
      },
      "outputs": [
        {
          "name": "stdout",
          "output_type": "stream",
          "text": [
            "Train data: (35000, 20)\n",
            "CV data: (15000, 20)\n"
          ]
        }
      ],
      "source": [
        "scaler = StandardizationScale()\n",
        "x_train_scaled = scaler.fit_transform(x_train)\n",
        "x_cv_scaled = scaler.transform(x_cv)\n",
        "print(f'Train data: {x_train_scaled.shape}')\n",
        "print(f'CV data: {x_cv_scaled.shape}')"
      ]
    },
    {
      "cell_type": "code",
      "execution_count": 4,
      "id": "tMFqxq3S1tGE",
      "metadata": {
        "colab": {
          "base_uri": "https://localhost:8080/"
        },
        "id": "tMFqxq3S1tGE",
        "outputId": "5bb9040e-e41e-4954-ffef-3ae38e1e0f13"
      },
      "outputs": [
        {
          "name": "stdout",
          "output_type": "stream",
          "text": [
            "Epoch   1 ⫸ Cost 21436.450⫷\n",
            "Epoch   2 ⫸ Cost   0.003  ⫷\n",
            "Epoch   3 ⫸ Cost   0.003  ⫷\n",
            "Epoch   4 ⫸ Cost   0.003  ⫷\n",
            "Epoch   5 ⫸ Cost   0.003  ⫷\n",
            "Epoch   6 ⫸ Cost   0.003  ⫷\n",
            "Epoch   7 ⫸ Cost   0.003  ⫷\n",
            "Epoch   8 ⫸ Cost   0.003  ⫷\n",
            "Epoch   9 ⫸ Cost   0.003  ⫷\n",
            "Epoch  10 ⫸ Cost   0.003  ⫷\n"
          ]
        },
        {
          "data": {
            "image/png": "[encoded data removed]",
            "text/plain": [
              "<Figure size 432x288 with 1 Axes>"
            ]
          },
          "metadata": {
            "needs_background": "light"
          },
          "output_type": "display_data"
        }
      ],
      "source": [
        "alpha = 0.5\n",
        "lambda_ = 0\n",
        "epochs = 10\n",
        "model = LinearRegression()\n",
        "_,_,cost_history = model.fit(x_train_scaled, y_train,alpha, epochs, lambda_,plot_cost=True)\n"
      ]
    },
    {
      "cell_type": "code",
      "execution_count": 5,
      "id": "5dcbdec3",
      "metadata": {
        "colab": {
          "base_uri": "https://localhost:8080/"
        },
        "id": "5dcbdec3",
        "outputId": "a3b3c18f-dd44-4ddf-a8da-c2260ad86199"
      },
      "outputs": [
        {
          "name": "stdout",
          "output_type": "stream",
          "text": [
            "Train r2: 0.9999999998776846\n",
            "CV r2: 0.9999999998767872\n"
          ]
        }
      ],
      "source": [
        "yhat_train = model.predict(x_train_scaled)\n",
        "r2_train = Metrics.r2_score(yhat_train, y_train)\n",
        "print(f'Train r2: {r2_train}')\n",
        "\n",
        "yhat_cv = model.predict(x_cv_scaled)\n",
        "r2_cv = Metrics.r2_score(yhat_cv, y_cv)\n",
        "print(f'CV r2: {r2_cv}')"
      ]
    },
    {
      "cell_type": "markdown",
      "id": "3988d956",
      "metadata": {},
      "source": [
        "Using different values of Regularization parameter to evaluate performance."
      ]
    },
    {
      "cell_type": "code",
      "execution_count": 9,
      "id": "058d07c4",
      "metadata": {
        "colab": {
          "base_uri": "https://localhost:8080/"
        },
        "id": "058d07c4",
        "outputId": "2c2f9927-90d1-4bde-f90e-d5b8ca61117f"
      },
      "outputs": [
        {
          "name": "stdout",
          "output_type": "stream",
          "text": [
            "Lambda = 0\n",
            "Epoch   4 ⫸ Cost   0.003  ⫷\n",
            "Epoch   8 ⫸ Cost   0.003  ⫷\n",
            "Epoch  12 ⫸ Cost   0.003  ⫷\n",
            "Epoch  16 ⫸ Cost   0.003  ⫷\n",
            "Epoch  20 ⫸ Cost   0.003  ⫷\n",
            "Epoch  24 ⫸ Cost   0.003  ⫷\n",
            "Epoch  28 ⫸ Cost   0.003  ⫷\n",
            "Epoch  32 ⫸ Cost   0.003  ⫷\n",
            "Epoch  36 ⫸ Cost   0.003  ⫷\n",
            "Epoch  40 ⫸ Cost   0.003  ⫷\n",
            "Lambda = 0.01\n",
            "Epoch   4 ⫸ Cost 21841.711⫷\n",
            "Epoch   8 ⫸ Cost 21841.703⫷\n",
            "Epoch  12 ⫸ Cost 21841.722⫷\n",
            "Epoch  16 ⫸ Cost 21841.685⫷\n",
            "Epoch  20 ⫸ Cost 21841.669⫷\n",
            "Epoch  24 ⫸ Cost 21841.675⫷\n",
            "Epoch  28 ⫸ Cost 21841.661⫷\n",
            "Epoch  32 ⫸ Cost 21841.725⫷\n",
            "Epoch  36 ⫸ Cost 21841.735⫷\n",
            "Epoch  40 ⫸ Cost 21841.732⫷\n",
            "Lambda = 0.5\n",
            "Epoch   4 ⫸ Cost 1068699.555⫷\n",
            "Epoch   8 ⫸ Cost 1068802.152⫷\n",
            "Epoch  12 ⫸ Cost 1068629.946⫷\n",
            "Epoch  16 ⫸ Cost 1068564.274⫷\n",
            "Epoch  20 ⫸ Cost 1068691.962⫷\n",
            "Epoch  24 ⫸ Cost 1068643.880⫷\n",
            "Epoch  28 ⫸ Cost 1068674.175⫷\n",
            "Epoch  32 ⫸ Cost 1068807.409⫷\n",
            "Epoch  36 ⫸ Cost 1068686.628⫷\n",
            "Epoch  40 ⫸ Cost 1068803.231⫷\n",
            "Lambda = 1\n",
            "Epoch   4 ⫸ Cost 2091762.756⫷\n",
            "Epoch   8 ⫸ Cost 2092019.558⫷\n",
            "Epoch  12 ⫸ Cost 2091590.427⫷\n",
            "Epoch  16 ⫸ Cost 2091758.305⫷\n",
            "Epoch  20 ⫸ Cost 2091297.295⫷\n",
            "Epoch  24 ⫸ Cost 2091601.183⫷\n",
            "Epoch  28 ⫸ Cost 2091629.819⫷\n",
            "Epoch  32 ⫸ Cost 2091797.120⫷\n",
            "Epoch  36 ⫸ Cost 2091497.283⫷\n",
            "Epoch  40 ⫸ Cost 2091433.185⫷\n",
            "Lambda = 4\n",
            "Epoch   4 ⫸ Cost 7432231.267⫷\n",
            "Epoch   8 ⫸ Cost 7431988.568⫷\n",
            "Epoch  12 ⫸ Cost 7420747.430⫷\n",
            "Epoch  16 ⫸ Cost 7430416.886⫷\n",
            "Epoch  20 ⫸ Cost 7421234.584⫷\n",
            "Epoch  24 ⫸ Cost 7423669.896⫷\n",
            "Epoch  28 ⫸ Cost 7424464.782⫷\n",
            "Epoch  32 ⫸ Cost 7427452.545⫷\n",
            "Epoch  36 ⫸ Cost 7426774.271⫷\n",
            "Epoch  40 ⫸ Cost 7429328.751⫷\n",
            "Lambda = 10\n",
            "Epoch   4 ⫸ Cost 15268126.708⫷\n",
            "Epoch   8 ⫸ Cost 15267558.029⫷\n",
            "Epoch  12 ⫸ Cost 15256323.453⫷\n",
            "Epoch  16 ⫸ Cost 15253582.680⫷\n",
            "Epoch  20 ⫸ Cost 15246692.466⫷\n",
            "Epoch  24 ⫸ Cost 15246129.911⫷\n",
            "Epoch  28 ⫸ Cost 15238774.597⫷\n",
            "Epoch  32 ⫸ Cost 15236633.450⫷\n",
            "Epoch  36 ⫸ Cost 15260935.828⫷\n",
            "Epoch  40 ⫸ Cost 15278848.662⫷\n",
            "Lambda = 15\n",
            "Epoch   4 ⫸ Cost 20041125.772⫷\n",
            "Epoch   8 ⫸ Cost 20058768.275⫷\n",
            "Epoch  12 ⫸ Cost 20090828.869⫷\n",
            "Epoch  16 ⫸ Cost 20108128.486⫷\n",
            "Epoch  20 ⫸ Cost 20082423.333⫷\n",
            "Epoch  24 ⫸ Cost 20101823.064⫷\n",
            "Epoch  28 ⫸ Cost 20052882.525⫷\n",
            "Epoch  32 ⫸ Cost 20134648.620⫷\n",
            "Epoch  36 ⫸ Cost 20107463.856⫷\n",
            "Epoch  40 ⫸ Cost 20112853.213⫷\n"
          ]
        }
      ],
      "source": [
        "alpha = 0.5\n",
        "lambda_ = 0\n",
        "lambdas = [0,0.01,0.5,1,4,10,15]\n",
        "models = []\n",
        "j_train = []\n",
        "j_cv = []\n",
        "r2_train = []\n",
        "r2_cv = []\n",
        "epochs = 40\n",
        "for i,lambda_ in enumerate(lambdas):\n",
        "  print(f'Lambda = {lambda_}')\n",
        "  models.append(LinearRegression())\n",
        "  models[i].fit(x_train_scaled, y_train,alpha, epochs, lambda_)\n",
        "\n",
        "  yhat_train = models[i].predict(x_train_scaled)\n",
        "  r2_train.append(Metrics.r2_score(yhat_train,y_train))\n",
        "  j_train.append(Metrics.mean_square_error(yhat_train, y_train))\n",
        "\n",
        "  yhat_cv = models[i].predict(x_cv_scaled)\n",
        "  r2_cv.append(Metrics.r2_score(yhat_cv,y_cv))\n",
        "  j_cv.append(Metrics.mean_square_error(yhat_cv, y_cv))\n"
      ]
    },
    {
      "cell_type": "code",
      "execution_count": 10,
      "id": "Yj3lpene10Ci",
      "metadata": {
        "colab": {
          "base_uri": "https://localhost:8080/",
          "height": 449
        },
        "id": "Yj3lpene10Ci",
        "outputId": "4e22e04d-aae9-4a3a-b0bc-335691a613c5"
      },
      "outputs": [
        {
          "data": {
            "image/png": "[encoded data removed]",
            "text/plain": [
              "<Figure size 432x288 with 1 Axes>"
            ]
          },
          "metadata": {
            "needs_background": "light"
          },
          "output_type": "display_data"
        }
      ],
      "source": [
        "plt.plot(lambdas, j_train, label=\"train\")\n",
        "plt.plot(lambdas, j_cv, label='CV')\n",
        "plt.xlabel('Regularization Parameter')\n",
        "plt.ylabel('Cost')\n",
        "plt.title(\"Cost vs Regularization Parameter\")\n",
        "plt.legend()\n",
        "plt.show()"
      ]
    },
    {
      "cell_type": "code",
      "execution_count": 11,
      "id": "OoFs-h3H2b6l",
      "metadata": {
        "colab": {
          "base_uri": "https://localhost:8080/",
          "height": 449
        },
        "id": "OoFs-h3H2b6l",
        "outputId": "95ef3778-0ce9-466c-f14d-cce99e9200f3"
      },
      "outputs": [
        {
          "data": {
            "image/png": "[encoded data removed]",
            "text/plain": [
              "<Figure size 432x288 with 1 Axes>"
            ]
          },
          "metadata": {
            "needs_background": "light"
          },
          "output_type": "display_data"
        }
      ],
      "source": [
        "plt.plot(lambdas, r2_train, label=\"train\")\n",
        "plt.plot(lambdas, r2_cv, label='CV')\n",
        "plt.xlabel('Regularization Parameter')\n",
        "plt.ylabel('R2 Score')\n",
        "plt.title(\"R2 Score vs Regularization Parameter\")\n",
        "plt.legend()\n",
        "plt.show()"
      ]
    }
  ],
  "metadata": {
    "colab": {
      "provenance": []
    },
    "kernelspec": {
      "display_name": "Python 3 (ipykernel)",
      "language": "python",
      "name": "python3"
    },
    "language_info": {
      "codemirror_mode": {
        "name": "ipython",
        "version": 3
      },
      "file_extension": ".py",
      "mimetype": "text/x-python",
      "name": "python",
      "nbconvert_exporter": "python",
      "pygments_lexer": "ipython3",
      "version": "3.9.6"
    }
  },
  "nbformat": 4,
  "nbformat_minor": 5
}
