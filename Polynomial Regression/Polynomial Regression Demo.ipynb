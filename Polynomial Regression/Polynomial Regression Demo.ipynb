{
  "cells": [
    {
      "cell_type": "code",
      "execution_count": 1,
      "metadata": {
        "id": "709Ausf2Yf6z"
      },
      "outputs": [],
      "source": [
        "import numpy as np\n",
        "import pandas as pd\n",
        "import matplotlib.pyplot as plt\n",
        "from MLLibrary import LinearRegression, Utilities, StandardizationScale, Metrics, CreatePolynomialFeatures, NormalizationScale"
      ]
    },
    {
      "cell_type": "code",
      "execution_count": 2,
      "metadata": {
        "colab": {
          "base_uri": "https://localhost:8080/"
        },
        "id": "reNRvW9OaLtr",
        "outputId": "35bfe9bb-ec4e-4a30-e520-7485ac8b8b1c"
      },
      "outputs": [
        {
          "name": "stdout",
          "output_type": "stream",
          "text": [
            "Train data: (50000, 3) (50000, 1)\n"
          ]
        }
      ],
      "source": [
        "x_data, y_data = Utilities.load_data('../data/Polynomialdata_train.csv',start_x = 1,start_y = 0,end_y = 1)\n",
        "print(f'Train data: {x_data.shape} {y_data.shape}')"
      ]
    },
    {
      "cell_type": "code",
      "execution_count": 3,
      "metadata": {
        "colab": {
          "base_uri": "https://localhost:8080/"
        },
        "id": "yoKX4wIcaNPk",
        "outputId": "7b95fbb1-104d-4d6f-ee26-8950a6263d2b"
      },
      "outputs": [
        {
          "name": "stdout",
          "output_type": "stream",
          "text": [
            "[1. 1. 1. 1. 1. 1. 1. 1. 1. 1. 1. 1. 1. 1. 1. 1. 1. 1. 1. 1. 1. 1. 1. 1.\n",
            " 1. 1. 1. 1. 1. 1. 1. 1. 1. 1. 1. 1. 1. 1. 1. 1. 1. 1. 1. 1. 1. 1. 1. 1.\n",
            " 1. 1. 1. 1. 1. 1. 1. 1. 1. 1. 1. 1. 1. 1. 1. 1. 1. 1. 1. 1. 1. 1. 1. 1.\n",
            " 1. 1. 1. 1. 1. 1. 1. 1. 1. 1. 1. 1. 1. 1. 1. 1. 1. 1. 1. 1. 1. 1. 1. 1.\n",
            " 1. 1. 1. 1. 1. 1. 1. 1. 1. 1. 1. 1. 1. 1. 1. 1. 1. 1. 1. 1. 1. 1. 1. 1.\n",
            " 1. 1. 1. 1. 1. 1. 1. 1. 1. 1. 1. 1. 1. 1. 1. 1. 1. 1. 1. 1. 1. 1. 1. 1.\n",
            " 1. 1. 1. 1. 1. 1. 1. 1. 1. 1. 1. 1. 1. 1. 1. 1. 1. 1. 1. 1.]\n"
          ]
        }
      ],
      "source": [
        "x_data_poly = CreatePolynomialFeatures.poly_transform(x_data, 8)\n",
        "scaler = StandardizationScale()\n",
        "x_data_scaled = scaler.fit_transform(x_data_poly)\n",
        "scaler2 = NormalizationScale()\n",
        "x_data_scaled = scaler2.fit_transform(x_data_scaled)\n",
        "\n",
        "print(np.ptp(x_data_scaled, axis=0))"
      ]
    },
    {
      "cell_type": "markdown",
      "metadata": {},
      "source": [
        "Polynomial Model for Degree 8 "
      ]
    },
    {
      "cell_type": "code",
      "execution_count": 6,
      "metadata": {
        "colab": {
          "base_uri": "https://localhost:8080/"
        },
        "id": "HO9v_kTjazfL",
        "outputId": "8f6c76cd-d604-4e21-cd51-1de2dc0fc5d4"
      },
      "outputs": [
        {
          "name": "stdout",
          "output_type": "stream",
          "text": [
            "Epoch   4 ⫸ Cost 6297137684963.462  ⫷\n",
            "Epoch   8 ⫸ Cost 2761069164159.247  ⫷\n",
            "Epoch  12 ⫸ Cost 1767382984656.926  ⫷\n",
            "Epoch  16 ⫸ Cost 1337696971828.034  ⫷\n",
            "Epoch  20 ⫸ Cost 1083640210458.548  ⫷\n",
            "Epoch  24 ⫸ Cost  912112565595.681  ⫷\n",
            "Epoch  28 ⫸ Cost  796400386398.387  ⫷\n",
            "Epoch  32 ⫸ Cost  700441896962.425  ⫷\n",
            "Epoch  36 ⫸ Cost  625261221413.085  ⫷\n",
            "Epoch  40 ⫸ Cost  565645978004.784  ⫷\n"
          ]
        },
        {
          "data": {
            "image/png": "[encoded data removed]",
            "text/plain": [
              "<Figure size 432x288 with 1 Axes>"
            ]
          },
          "metadata": {
            "needs_background": "light"
          },
          "output_type": "display_data"
        }
      ],
      "source": [
        "alpha = 0.7\n",
        "lambda_ = 0\n",
        "epochs = 40\n",
        "model = LinearRegression()\n",
        "w_final, b_final, cost_history = model.fit(x_data_scaled, y_data, alpha, epochs,lambda_,plot_cost=True)"
      ]
    },
    {
      "cell_type": "code",
      "execution_count": 7,
      "metadata": {
        "colab": {
          "base_uri": "https://localhost:8080/"
        },
        "id": "60uPaRdya2ey",
        "outputId": "beb257b5-73da-43fd-c6fd-62168e283ac6"
      },
      "outputs": [
        {
          "name": "stdout",
          "output_type": "stream",
          "text": [
            "Train: 0.9904819849328905\n"
          ]
        }
      ],
      "source": [
        "yhat_train = model.predict(x_data_scaled)\n",
        "print(f'Train: {Metrics.r2_score(yhat_train,y_data)}')"
      ]
    },
    {
      "cell_type": "code",
      "execution_count": 13,
      "metadata": {},
      "outputs": [
        {
          "name": "stdout",
          "output_type": "stream",
          "text": [
            "Train data: (10000, 164)\n"
          ]
        }
      ],
      "source": [
        "x_test = Utilities.load_data('../data/Polynomialdata_test.csv', start_x=1)\n",
        "x_test_poly = CreatePolynomialFeatures.poly_transform(x_test, 8)\n",
        "x_test_scaled = scaler.transform(x_test_poly)\n",
        "x_test_scaled = scaler2.transform(x_test_scaled)\n",
        "print(f'Train data: {x_test_scaled.shape}')"
      ]
    },
    {
      "cell_type": "code",
      "execution_count": 15,
      "metadata": {},
      "outputs": [
        {
          "name": "stdout",
          "output_type": "stream",
          "text": [
            "(10000, 1)\n"
          ]
        }
      ],
      "source": [
        "y_test = model.predict(x_test_scaled)\n",
        "print(y_test.shape)\n",
        "df = pd.DataFrame(y_test, columns=['predicted value'])\n",
        "df.to_csv('Polynomialdata_result.csv', index=False)"
      ]
    }
  ],
  "metadata": {
    "colab": {
      "provenance": []
    },
    "kernelspec": {
      "display_name": "Python 3 (ipykernel)",
      "language": "python",
      "name": "python3"
    },
    "language_info": {
      "codemirror_mode": {
        "name": "ipython",
        "version": 3
      },
      "file_extension": ".py",
      "mimetype": "text/x-python",
      "name": "python",
      "nbconvert_exporter": "python",
      "pygments_lexer": "ipython3",
      "version": "3.9.6"
    }
  },
  "nbformat": 4,
  "nbformat_minor": 0
}
