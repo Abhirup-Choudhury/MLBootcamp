{
  "cells": [
    {
      "cell_type": "code",
      "execution_count": 2,
      "id": "0360ddc6",
      "metadata": {
        "id": "0360ddc6"
      },
      "outputs": [],
      "source": [
        "import numpy as np\n",
        "import pandas as pd\n",
        "import matplotlib.pyplot as plt\n",
        "from MLLibrary import LinearRegression, Utilities, StandardizationScale, Metrics"
      ]
    },
    {
      "cell_type": "code",
      "execution_count": 3,
      "id": "22aa5866",
      "metadata": {
        "colab": {
          "base_uri": "https://localhost:8080/"
        },
        "id": "22aa5866",
        "outputId": "274044e4-ff96-4a91-fb41-e57007027028"
      },
      "outputs": [
        {
          "name": "stdout",
          "output_type": "stream",
          "text": [
            "Train data: (50000, 20) (50000, 1)\n"
          ]
        }
      ],
      "source": [
        "x_data, y_data = Utilities.load_data('..\\data\\Lineardata_train.csv',start_x = 1,start_y = 0,end_y = 1)\n",
        "print(f'Train data: {x_data.shape} {y_data.shape}')"
      ]
    },
    {
      "cell_type": "code",
      "execution_count": 4,
      "id": "1722d097",
      "metadata": {
        "colab": {
          "base_uri": "https://localhost:8080/"
        },
        "id": "1722d097",
        "outputId": "ac5c881b-c846-4312-92e3-f23444f9ced3"
      },
      "outputs": [
        {
          "name": "stdout",
          "output_type": "stream",
          "text": [
            "Train data: (50000, 20)\n"
          ]
        }
      ],
      "source": [
        "scaler = StandardizationScale()\n",
        "x_scaled = scaler.fit_transform(x_data)\n",
        "print(f'Train data: {x_scaled.shape}')"
      ]
    },
    {
      "cell_type": "code",
      "execution_count": 5,
      "id": "tMFqxq3S1tGE",
      "metadata": {
        "colab": {
          "base_uri": "https://localhost:8080/"
        },
        "id": "tMFqxq3S1tGE",
        "outputId": "5bb9040e-e41e-4954-ffef-3ae38e1e0f13"
      },
      "outputs": [
        {
          "name": "stdout",
          "output_type": "stream",
          "text": [
            "Epoch   1 ⫸ Cost 16322.888 ⫷\n",
            "Epoch   2 ⫸ Cost   0.003   ⫷\n",
            "Epoch   3 ⫸ Cost   0.003   ⫷\n",
            "Epoch   4 ⫸ Cost   0.003   ⫷\n",
            "Epoch   5 ⫸ Cost   0.003   ⫷\n",
            "Epoch   6 ⫸ Cost   0.003   ⫷\n",
            "Epoch   7 ⫸ Cost   0.003   ⫷\n",
            "Epoch   8 ⫸ Cost   0.003   ⫷\n",
            "Epoch   9 ⫸ Cost   0.003   ⫷\n",
            "Epoch  10 ⫸ Cost   0.003   ⫷\n"
          ]
        },
        {
          "data": {
            "image/png": "[encoded data removed]",
            "text/plain": [
              "<Figure size 432x288 with 1 Axes>"
            ]
          },
          "metadata": {
            "needs_background": "light"
          },
          "output_type": "display_data"
        }
      ],
      "source": [
        "alpha = 0.5\n",
        "lambda_ = 0\n",
        "epochs = 10\n",
        "model = LinearRegression()\n",
        "_,_,cost_history = model.fit(x_scaled, y_data,alpha, epochs, lambda_,plot_cost=True)\n"
      ]
    },
    {
      "cell_type": "code",
      "execution_count": 6,
      "id": "5dcbdec3",
      "metadata": {
        "colab": {
          "base_uri": "https://localhost:8080/"
        },
        "id": "5dcbdec3",
        "outputId": "a3b3c18f-dd44-4ddf-a8da-c2260ad86199"
      },
      "outputs": [
        {
          "name": "stdout",
          "output_type": "stream",
          "text": [
            "r2: 0.9999999998908168\n"
          ]
        }
      ],
      "source": [
        "yhat_train = model.predict(x_scaled)\n",
        "r2 = Metrics.r2_score(yhat_train, y_data)\n",
        "print(f'r2: {r2}')\n"
      ]
    },
    {
      "cell_type": "code",
      "execution_count": 7,
      "id": "0829d2bd",
      "metadata": {},
      "outputs": [
        {
          "name": "stdout",
          "output_type": "stream",
          "text": [
            "Test data: (10000, 20)\n"
          ]
        }
      ],
      "source": [
        "x_test = Utilities.load_data('..\\data\\Lineardata_test.csv', start_x=1)\n",
        "print(f'Test data: {x_test.shape}')"
      ]
    },
    {
      "cell_type": "code",
      "execution_count": 8,
      "id": "1cf7568d",
      "metadata": {},
      "outputs": [
        {
          "name": "stdout",
          "output_type": "stream",
          "text": [
            "Train data: (10000, 20)\n"
          ]
        }
      ],
      "source": [
        "x_test_scaled = scaler.transform(x_test)\n",
        "print(f'Train data: {x_test_scaled.shape}')"
      ]
    },
    {
      "cell_type": "code",
      "execution_count": 9,
      "id": "b9554829",
      "metadata": {},
      "outputs": [
        {
          "name": "stdout",
          "output_type": "stream",
          "text": [
            "(10000, 1)\n"
          ]
        }
      ],
      "source": [
        "y_test = model.predict(x_test_scaled)\n",
        "print(y_test.shape)"
      ]
    },
    {
      "cell_type": "code",
      "execution_count": 10,
      "id": "da9752ef",
      "metadata": {},
      "outputs": [],
      "source": [
        "df = pd.DataFrame(y_test, columns=['predicted value'])\n",
        "df.to_csv('Lineardata_result.csv', index=False)"
      ]
    }
  ],
  "metadata": {
    "colab": {
      "provenance": []
    },
    "kernelspec": {
      "display_name": "Python 3 (ipykernel)",
      "language": "python",
      "name": "python3"
    },
    "language_info": {
      "codemirror_mode": {
        "name": "ipython",
        "version": 3
      },
      "file_extension": ".py",
      "mimetype": "text/x-python",
      "name": "python",
      "nbconvert_exporter": "python",
      "pygments_lexer": "ipython3",
      "version": "3.9.6"
    }
  },
  "nbformat": 4,
  "nbformat_minor": 5
}
