{
  "cells": [
    {
      "cell_type": "code",
      "execution_count": 18,
      "metadata": {
        "id": "709Ausf2Yf6z"
      },
      "outputs": [],
      "source": [
        "import numpy as np\n",
        "import pandas as pd\n",
        "import matplotlib.pyplot as plt\n",
        "from MLLibrary import LinearRegression, Utilities, StandardizationScale, Metrics, CreatePolynomialFeatures, NormalizationScale"
      ]
    },
    {
      "cell_type": "code",
      "execution_count": 19,
      "metadata": {
        "colab": {
          "base_uri": "https://localhost:8080/"
        },
        "id": "reNRvW9OaLtr",
        "outputId": "35bfe9bb-ec4e-4a30-e520-7485ac8b8b1c"
      },
      "outputs": [
        {
          "name": "stdout",
          "output_type": "stream",
          "text": [
            "Train data: (35000, 3) (35000, 1)\n",
            "CV data: (15000, 3) (15000, 1)\n"
          ]
        }
      ],
      "source": [
        "x_data, y_data = Utilities.load_data('data/Polynomialdata_train.csv',start_x = 1,start_y = 0,end_y = 1)\n",
        "x_train,y_train, x_cv,y_cv = Utilities.split_data(70, x_data, y_data)\n",
        "print(f'Train data: {x_train.shape} {y_train.shape}')\n",
        "print(f'CV data: {x_cv.shape} {y_cv.shape}')"
      ]
    },
    {
      "cell_type": "code",
      "execution_count": 5,
      "metadata": {
        "colab": {
          "base_uri": "https://localhost:8080/"
        },
        "id": "yoKX4wIcaNPk",
        "outputId": "7b95fbb1-104d-4d6f-ee26-8950a6263d2b"
      },
      "outputs": [
        {
          "name": "stdout",
          "output_type": "stream",
          "text": [
            "[1. 1. 1. 1. 1. 1. 1. 1. 1. 1. 1. 1. 1. 1. 1. 1. 1. 1. 1. 1. 1. 1. 1. 1.\n",
            " 1. 1. 1. 1. 1. 1. 1. 1. 1. 1. 1. 1. 1. 1. 1. 1. 1. 1. 1. 1. 1. 1. 1. 1.\n",
            " 1. 1. 1. 1. 1. 1. 1. 1. 1. 1. 1. 1. 1. 1. 1. 1. 1. 1. 1. 1. 1. 1. 1. 1.\n",
            " 1. 1. 1. 1. 1. 1. 1. 1. 1. 1. 1. 1. 1. 1. 1. 1. 1. 1. 1. 1. 1. 1. 1. 1.\n",
            " 1. 1. 1. 1. 1. 1. 1. 1. 1. 1. 1. 1. 1. 1. 1. 1. 1. 1. 1. 1. 1. 1. 1. 1.\n",
            " 1. 1. 1. 1. 1. 1. 1. 1. 1. 1. 1. 1. 1. 1. 1. 1. 1. 1. 1. 1. 1. 1. 1. 1.\n",
            " 1. 1. 1. 1. 1. 1. 1. 1. 1. 1. 1. 1. 1. 1. 1. 1. 1. 1. 1. 1.]\n"
          ]
        }
      ],
      "source": [
        "x_train_poly = CreatePolynomialFeatures.poly_transform(x_train, 8)\n",
        "x_cv_poly = CreatePolynomialFeatures.poly_transform(x_cv, 8)\n",
        "\n",
        "scaler = StandardizationScale()\n",
        "x_train_scaled = scaler.fit_transform(x_train_poly)\n",
        "x_cv_scaled = scaler.transform(x_cv_poly)\n",
        "\n",
        "scaler2 = NormalizationScale()\n",
        "x_train_scaled = scaler2.fit_transform(x_train_scaled)\n",
        "x_cv_scaled = scaler2.fit_transform(x_cv_scaled)\n",
        "\n",
        "print(np.ptp(x_train_scaled, axis=0))"
      ]
    },
    {
      "cell_type": "markdown",
      "metadata": {},
      "source": [
        "Polynomial Model for Degree 8 "
      ]
    },
    {
      "cell_type": "code",
      "execution_count": 9,
      "metadata": {
        "colab": {
          "base_uri": "https://localhost:8080/"
        },
        "id": "HO9v_kTjazfL",
        "outputId": "8f6c76cd-d604-4e21-cd51-1de2dc0fc5d4"
      },
      "outputs": [
        {
          "name": "stdout",
          "output_type": "stream",
          "text": [
            "Epoch  10 ⫸ Cost 2314122077627.218 ⫷\n",
            "Epoch  20 ⫸ Cost 1058628171283.166 ⫷\n",
            "Epoch  30 ⫸ Cost  731172159064.383 ⫷\n",
            "Epoch  40 ⫸ Cost  574633932633.729 ⫷\n",
            "Epoch  50 ⫸ Cost  479817250597.952 ⫷\n",
            "Epoch  60 ⫸ Cost  415537122505.936 ⫷\n",
            "Epoch  70 ⫸ Cost  367981182768.867 ⫷\n",
            "Epoch  80 ⫸ Cost  330462026015.872 ⫷\n",
            "Epoch  90 ⫸ Cost  300521561349.580 ⫷\n",
            "Epoch 100 ⫸ Cost  275707388832.800 ⫷\n"
          ]
        }
      ],
      "source": [
        "alpha = 0.7\n",
        "lambda_ = 0\n",
        "epochs = 100\n",
        "model = LinearRegression()\n",
        "w_final, b_final, cost_history = model.fit(x_train_scaled, y_train, alpha, epochs,lambda_)"
      ]
    },
    {
      "cell_type": "code",
      "execution_count": 10,
      "metadata": {
        "colab": {
          "base_uri": "https://localhost:8080/"
        },
        "id": "60uPaRdya2ey",
        "outputId": "beb257b5-73da-43fd-c6fd-62168e283ac6"
      },
      "outputs": [
        {
          "name": "stdout",
          "output_type": "stream",
          "text": [
            "Train: 0.9953905357294769\n",
            "CV: 0.9603351489750567\n"
          ]
        }
      ],
      "source": [
        "yhat_train = model.predict(x_train_scaled)\n",
        "print(f'Train: {Metrics.r2_score(yhat_train,y_train)}')\n",
        "\n",
        "yhat_cv = model.predict(x_cv_scaled)\n",
        "print(f'CV: {Metrics.r2_score(yhat_cv,y_cv)}')"
      ]
    },
    {
      "cell_type": "code",
      "execution_count": 14,
      "metadata": {},
      "outputs": [
        {
          "data": {
            "image/png": "[encoded data removed]",
            "text/plain": [
              "<Figure size 432x288 with 1 Axes>"
            ]
          },
          "metadata": {
            "needs_background": "light"
          },
          "output_type": "display_data"
        }
      ],
      "source": [
        "plt.plot(np.arange(100),cost_history)\n",
        "plt.xlabel('Epochs')\n",
        "plt.ylabel('Cost')\n",
        "plt.title('Cost vs Epochs')\n",
        "plt.show()"
      ]
    },
    {
      "cell_type": "markdown",
      "metadata": {},
      "source": [
        "Variation of Model Performance with Varying Degrees"
      ]
    },
    {
      "cell_type": "code",
      "execution_count": 15,
      "metadata": {
        "colab": {
          "base_uri": "https://localhost:8080/"
        },
        "id": "7QzLU_6wa470",
        "outputId": "e787658f-bd02-47f8-991d-3a3ffedd004c"
      },
      "outputs": [
        {
          "name": "stdout",
          "output_type": "stream",
          "text": [
            "Degree: 5\n",
            "Epoch  10 ⫸ Cost 9191970025754.840 ⫷\n",
            "Epoch  20 ⫸ Cost 4688489530877.989 ⫷\n",
            "Epoch  30 ⫸ Cost 3574919951222.531 ⫷\n",
            "Epoch  40 ⫸ Cost 3267198536754.240 ⫷\n",
            "Epoch  50 ⫸ Cost 3163372003509.645 ⫷\n",
            "Epoch  60 ⫸ Cost 3128096730718.836 ⫷\n",
            "Epoch  70 ⫸ Cost 3096361435049.082 ⫷\n",
            "Epoch  80 ⫸ Cost 3100823430087.727 ⫷\n",
            "Epoch  90 ⫸ Cost 3095111424320.359 ⫷\n",
            "Epoch 100 ⫸ Cost 3078668287666.604 ⫷\n",
            "Degree: 6\n",
            "Epoch  10 ⫸ Cost 4267764899809.260 ⫷\n",
            "Epoch  20 ⫸ Cost 1999860627324.880 ⫷\n",
            "Epoch  30 ⫸ Cost 1490858887478.994 ⫷\n",
            "Epoch  40 ⫸ Cost 1276822138244.055 ⫷\n",
            "Epoch  50 ⫸ Cost 1133629553644.309 ⫷\n",
            "Epoch  60 ⫸ Cost 1035982751929.770 ⫷\n",
            "Epoch  70 ⫸ Cost  956647606345.559 ⫷\n",
            "Epoch  80 ⫸ Cost  890785663480.886 ⫷\n",
            "Epoch  90 ⫸ Cost  826546724329.449 ⫷\n",
            "Epoch 100 ⫸ Cost  792431593527.974 ⫷\n",
            "Degree: 7\n",
            "Epoch  10 ⫸ Cost 4114162996799.055 ⫷\n",
            "Epoch  20 ⫸ Cost 1889558976937.693 ⫷\n",
            "Epoch  30 ⫸ Cost 1402279521381.836 ⫷\n",
            "Epoch  40 ⫸ Cost 1198733170351.810 ⫷\n",
            "Epoch  50 ⫸ Cost 1070986705746.513 ⫷\n",
            "Epoch  60 ⫸ Cost  980727932294.013 ⫷\n",
            "Epoch  70 ⫸ Cost  909292294590.251 ⫷\n",
            "Epoch  80 ⫸ Cost  853519071544.878 ⫷\n",
            "Epoch  90 ⫸ Cost  798902268091.645 ⫷\n",
            "Epoch 100 ⫸ Cost  757540136822.250 ⫷\n",
            "Degree: 8\n",
            "Epoch  10 ⫸ Cost 2849709156709.000 ⫷\n",
            "Epoch  20 ⫸ Cost 1251896794006.575 ⫷\n",
            "Epoch  30 ⫸ Cost  844983780843.964 ⫷\n",
            "Epoch  40 ⫸ Cost  659981557152.709 ⫷\n",
            "Epoch  50 ⫸ Cost  546263171227.171 ⫷\n",
            "Epoch  60 ⫸ Cost  472471122266.455 ⫷\n",
            "Epoch  70 ⫸ Cost  418234172018.169 ⫷\n",
            "Epoch  80 ⫸ Cost  376558470720.581 ⫷\n",
            "Epoch  90 ⫸ Cost  342527333166.307 ⫷\n",
            "Epoch 100 ⫸ Cost  314021282011.342 ⫷\n",
            "Degree: 9\n",
            "Epoch  10 ⫸ Cost 2805824968153.962 ⫷\n",
            "Epoch  20 ⫸ Cost 1243941861954.532 ⫷\n",
            "Epoch  30 ⫸ Cost  841031728937.831 ⫷\n",
            "Epoch  40 ⫸ Cost  654384901672.300 ⫷\n",
            "Epoch  50 ⫸ Cost  543501358208.340 ⫷\n",
            "Epoch  60 ⫸ Cost  468051762723.537 ⫷\n",
            "Epoch  70 ⫸ Cost  414054808768.327 ⫷\n",
            "Epoch  80 ⫸ Cost  372378640270.348 ⫷\n",
            "Epoch  90 ⫸ Cost  338622598323.298 ⫷\n",
            "Epoch 100 ⫸ Cost  311296089765.878 ⫷\n"
          ]
        }
      ],
      "source": [
        "alpha = 0.6\n",
        "lambda_ = 0\n",
        "epochs = 100\n",
        "degrees = [5,6,7,8,9]\n",
        "models = []\n",
        "j_train = []\n",
        "j_cv = []\n",
        "r2_train = []\n",
        "r2_cv = []\n",
        "for i,degree in enumerate(degrees):\n",
        "    print(f'Degree: {degree}')\n",
        "    x_train_poly = CreatePolynomialFeatures.poly_transform(x_train, degree)\n",
        "    x_cv_poly = CreatePolynomialFeatures.poly_transform(x_cv, degree)\n",
        "\n",
        "    scaler = StandardizationScale()\n",
        "    x_train_scaled = scaler.fit_transform(x_train_poly)\n",
        "    x_cv_scaled = scaler.transform(x_cv_poly)\n",
        "\n",
        "    scaler2 = NormalizationScale()\n",
        "    x_train_scaled = scaler2.fit_transform(x_train_scaled)\n",
        "    x_cv_scaled = scaler2.fit_transform(x_cv_scaled)\n",
        "\n",
        "    models.append(LinearRegression())\n",
        "    models[i].fit(x_train_scaled, y_train,alpha, epochs, lambda_)\n",
        "\n",
        "    yhat_train = models[i].predict(x_train_scaled)\n",
        "    r2_train.append(Metrics.r2_score(yhat_train,y_train))\n",
        "    j_train.append(Metrics.mean_square_error(yhat_train, y_train))\n",
        "\n",
        "    yhat_cv = models[i].predict(x_cv_scaled)\n",
        "    r2_cv.append(Metrics.r2_score(yhat_cv,y_cv))\n",
        "    j_cv.append(Metrics.mean_square_error(yhat_cv, y_cv))\n"
      ]
    },
    {
      "cell_type": "code",
      "execution_count": 16,
      "metadata": {
        "colab": {
          "base_uri": "https://localhost:8080/",
          "height": 472
        },
        "id": "JOBju9UvbXtF",
        "outputId": "f26c3283-5e68-48a6-bdc6-b8774d0be9fa"
      },
      "outputs": [
        {
          "data": {
            "image/png": "[encoded data removed]",
            "text/plain": [
              "<Figure size 432x288 with 1 Axes>"
            ]
          },
          "metadata": {
            "needs_background": "light"
          },
          "output_type": "display_data"
        }
      ],
      "source": [
        "plt.plot(degrees, j_train, label=\"train\")\n",
        "plt.plot(degrees, j_cv, label='CV')\n",
        "plt.xlabel('degrees')\n",
        "plt.ylabel('cost')\n",
        "plt.title('Cost vs Degree')\n",
        "plt.legend()\n",
        "plt.show()"
      ]
    },
    {
      "cell_type": "code",
      "execution_count": 17,
      "metadata": {
        "colab": {
          "base_uri": "https://localhost:8080/",
          "height": 472
        },
        "id": "0gClZ0st4uK3",
        "outputId": "fa94438d-bc0b-4f7f-830a-ac8cd01dfa3f"
      },
      "outputs": [
        {
          "data": {
            "image/png": "[encoded data removed]",
            "text/plain": [
              "<Figure size 432x288 with 1 Axes>"
            ]
          },
          "metadata": {
            "needs_background": "light"
          },
          "output_type": "display_data"
        }
      ],
      "source": [
        "plt.plot(degrees, r2_train, label=\"train\")\n",
        "plt.plot(degrees, r2_cv, label='CV')\n",
        "plt.xlabel('degrees')\n",
        "plt.ylabel('r2')\n",
        "plt.title('r2 score vs degrees')\n",
        "plt.legend()\n",
        "plt.show()"
      ]
    },
    {
      "cell_type": "markdown",
      "metadata": {},
      "source": [
        "Variation of Model Performance with Varying Regularization Constant"
      ]
    },
    {
      "cell_type": "code",
      "execution_count": 20,
      "metadata": {
        "colab": {
          "base_uri": "https://localhost:8080/",
          "height": 1000
        },
        "id": "yOqtKEWu6Fia",
        "outputId": "23609fce-fb26-4627-809e-376336790028"
      },
      "outputs": [
        {
          "name": "stdout",
          "output_type": "stream",
          "text": [
            "Lambda: 1e-12\n",
            "Epoch  10 ⫸ Cost 2862701140364.049 ⫷\n",
            "Epoch  20 ⫸ Cost 1255278256267.218 ⫷\n",
            "Epoch  30 ⫸ Cost  847362162335.628 ⫷\n",
            "Epoch  40 ⫸ Cost  658391057246.623 ⫷\n",
            "Epoch  50 ⫸ Cost  545561810645.216 ⫷\n",
            "Epoch  60 ⫸ Cost  472918090834.531 ⫷\n",
            "Epoch  70 ⫸ Cost  417791295407.007 ⫷\n",
            "Epoch  80 ⫸ Cost  376632548000.761 ⫷\n",
            "Epoch  90 ⫸ Cost  341027970640.631 ⫷\n",
            "Epoch 100 ⫸ Cost  314922241895.029 ⫷\n",
            "Lambda: 1e-10\n",
            "Epoch  10 ⫸ Cost 2864232297098.294 ⫷\n",
            "Epoch  20 ⫸ Cost 1250970518380.345 ⫷\n",
            "Epoch  30 ⫸ Cost  849706399016.415 ⫷\n",
            "Epoch  40 ⫸ Cost  658581108062.184 ⫷\n",
            "Epoch  50 ⫸ Cost  548120147798.365 ⫷\n",
            "Epoch  60 ⫸ Cost  473744594677.342 ⫷\n",
            "Epoch  70 ⫸ Cost  419182496483.122 ⫷\n",
            "Epoch  80 ⫸ Cost  377703470959.192 ⫷\n",
            "Epoch  90 ⫸ Cost  343119476390.739 ⫷\n",
            "Epoch 100 ⫸ Cost  314703318903.231 ⫷\n",
            "Lambda: 1e-08\n",
            "Epoch  10 ⫸ Cost 2863204634473.014 ⫷\n",
            "Epoch  20 ⫸ Cost 1254452427327.246 ⫷\n",
            "Epoch  30 ⫸ Cost  847257166424.457 ⫷\n",
            "Epoch  40 ⫸ Cost  658819487861.072 ⫷\n",
            "Epoch  50 ⫸ Cost  548233373325.017 ⫷\n",
            "Epoch  60 ⫸ Cost  472180346828.453 ⫷\n",
            "Epoch  70 ⫸ Cost  420688853342.769 ⫷\n",
            "Epoch  80 ⫸ Cost  377068702471.097 ⫷\n",
            "Epoch  90 ⫸ Cost  343055546967.147 ⫷\n",
            "Epoch 100 ⫸ Cost  314999531229.637 ⫷\n",
            "Lambda: 1e-05\n",
            "Epoch  10 ⫸ Cost 2887088798780.712 ⫷\n",
            "Epoch  20 ⫸ Cost 1297271767446.917 ⫷\n",
            "Epoch  30 ⫸ Cost  892562303318.857 ⫷\n",
            "Epoch  40 ⫸ Cost  709789110781.457 ⫷\n",
            "Epoch  50 ⫸ Cost  603421564430.716 ⫷\n",
            "Epoch  60 ⫸ Cost  528790475409.499 ⫷\n",
            "Epoch  70 ⫸ Cost  474816711398.813 ⫷\n",
            "Epoch  80 ⫸ Cost  434902694926.870 ⫷\n",
            "Epoch  90 ⫸ Cost  402842533070.156 ⫷\n",
            "Epoch 100 ⫸ Cost  375480147941.817 ⫷\n",
            "Lambda: 0.01\n",
            "Epoch  10 ⫸ Cost 18483751800913.996⫷\n",
            "Epoch  20 ⫸ Cost 18313507861825.316⫷\n",
            "Epoch  30 ⫸ Cost 18463592421229.520⫷\n",
            "Epoch  40 ⫸ Cost 18524324841296.301⫷\n",
            "Epoch  50 ⫸ Cost 18523899435739.695⫷\n",
            "Epoch  60 ⫸ Cost 18549443316887.410⫷\n",
            "Epoch  70 ⫸ Cost 18507516334589.426⫷\n",
            "Epoch  80 ⫸ Cost 18505468078518.422⫷\n",
            "Epoch  90 ⫸ Cost 18543518591792.609⫷\n",
            "Epoch 100 ⫸ Cost 18578720070826.711⫷\n",
            "Lambda: 1\n",
            "Epoch  10 ⫸ Cost 52574622722220.562⫷\n",
            "Epoch  20 ⫸ Cost 52477255749990.914⫷\n",
            "Epoch  30 ⫸ Cost 52663194858202.859⫷\n",
            "Epoch  40 ⫸ Cost 52547678072008.859⫷\n",
            "Epoch  50 ⫸ Cost 52713724725003.398⫷\n",
            "Epoch  60 ⫸ Cost 52612621828633.773⫷\n",
            "Epoch  70 ⫸ Cost 52583486635692.484⫷\n",
            "Epoch  80 ⫸ Cost 52427775422803.055⫷\n",
            "Epoch  90 ⫸ Cost 52632308138317.984⫷\n",
            "Epoch 100 ⫸ Cost 52429626841286.797⫷\n"
          ]
        }
      ],
      "source": [
        "alpha = 0.6\n",
        "lambdas = [1e-12,1e-10,1e-8,1e-5,1e-2,1]\n",
        "epochs = 100\n",
        "degree = 8\n",
        "models = []\n",
        "j_train = []\n",
        "j_cv = []\n",
        "r2_train = []\n",
        "r2_cv = []\n",
        "for i,lambda_ in enumerate(lambdas):\n",
        "    print(f'Lambda: {lambda_}')\n",
        "    x_train_poly = CreatePolynomialFeatures.poly_transform(x_train, degree)\n",
        "    x_cv_poly = CreatePolynomialFeatures.poly_transform(x_cv, degree)\n",
        "\n",
        "    scaler = StandardizationScale()\n",
        "    x_train_scaled = scaler.fit_transform(x_train_poly)\n",
        "    x_cv_scaled = scaler.transform(x_cv_poly)\n",
        "\n",
        "    scaler2 = NormalizationScale()\n",
        "    x_train_scaled = scaler2.fit_transform(x_train_scaled)\n",
        "    x_cv_scaled = scaler2.fit_transform(x_cv_scaled)\n",
        "\n",
        "    models.append(LinearRegression())\n",
        "    models[i].fit(x_train_scaled, y_train,alpha, epochs, lambda_)\n",
        "\n",
        "    yhat_train = models[i].predict(x_train_scaled)\n",
        "    r2_train.append(Metrics.r2_score(yhat_train,y_train))\n",
        "    j_train.append(Metrics.mean_square_error(yhat_train, y_train))\n",
        "\n",
        "    yhat_cv = models[i].predict(x_cv_scaled)\n",
        "    r2_cv.append(Metrics.r2_score(yhat_cv,y_cv))\n",
        "    j_cv.append(Metrics.mean_square_error(yhat_cv, y_cv))"
      ]
    },
    {
      "cell_type": "code",
      "execution_count": 21,
      "metadata": {
        "colab": {
          "base_uri": "https://localhost:8080/",
          "height": 826
        },
        "id": "VcoA2WyB6WUE",
        "outputId": "c29eed1b-38c7-4008-82dd-c77ef2ade40f"
      },
      "outputs": [
        {
          "data": {
            "image/png": "[encoded data removed]",
            "text/plain": [
              "<Figure size 432x288 with 1 Axes>"
            ]
          },
          "metadata": {
            "needs_background": "light"
          },
          "output_type": "display_data"
        }
      ],
      "source": [
        "plt.plot(lambdas, j_train, label=\"train\")\n",
        "plt.plot(lambdas, j_cv, label='CV')\n",
        "plt.xlabel('lambda')\n",
        "plt.ylabel('cost')\n",
        "plt.title('cost vs lambdas')\n",
        "plt.legend()\n",
        "plt.show()"
      ]
    },
    {
      "cell_type": "code",
      "execution_count": 22,
      "metadata": {
        "id": "8IPQBVTm6W0G"
      },
      "outputs": [
        {
          "data": {
            "image/png": "[encoded data removed]",
            "text/plain": [
              "<Figure size 432x288 with 1 Axes>"
            ]
          },
          "metadata": {
            "needs_background": "light"
          },
          "output_type": "display_data"
        }
      ],
      "source": [
        "plt.plot(lambdas, r2_train, label=\"train\")\n",
        "plt.plot(lambdas, r2_cv, label='CV')\n",
        "plt.xlabel('lambda')\n",
        "plt.ylabel('r2')\n",
        "plt.title('r2 score vs lambdas')\n",
        "plt.legend()\n",
        "plt.show()"
      ]
    }
  ],
  "metadata": {
    "colab": {
      "provenance": []
    },
    "kernelspec": {
      "display_name": "Python 3 (ipykernel)",
      "language": "python",
      "name": "python3"
    },
    "language_info": {
      "codemirror_mode": {
        "name": "ipython",
        "version": 3
      },
      "file_extension": ".py",
      "mimetype": "text/x-python",
      "name": "python",
      "nbconvert_exporter": "python",
      "pygments_lexer": "ipython3",
      "version": "3.9.6"
    }
  },
  "nbformat": 4,
  "nbformat_minor": 0
}
