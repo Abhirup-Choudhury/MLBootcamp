{
  "cells": [
    {
      "cell_type": "code",
      "execution_count": 1,
      "id": "66e1185c",
      "metadata": {
        "id": "66e1185c"
      },
      "outputs": [],
      "source": [
        "import numpy as np\n",
        "import pandas as pd\n",
        "import matplotlib.pyplot as plt\n",
        "from MLLibrary import *"
      ]
    },
    {
      "cell_type": "code",
      "execution_count": 2,
      "id": "5dd7d1d7",
      "metadata": {
        "id": "5dd7d1d7"
      },
      "outputs": [],
      "source": [
        "x_data, y_data = Utilities.load_data('../data/Classification_train.csv',start_x = 1,start_y = 0,end_y = 1)\n",
        "\n",
        "scaler = StandardizationScale()\n",
        "x_data_scaled = scaler.fit_transform(x_data)\n",
        "\n",
        "scaler2 = NormalizationScale()\n",
        "x_data_scaled = scaler2.fit_transform(x_data_scaled)"
      ]
    },
    {
      "cell_type": "code",
      "execution_count": 3,
      "id": "0ad7edc5",
      "metadata": {
        "id": "0ad7edc5"
      },
      "outputs": [],
      "source": [
        "my_model = NeuralNet([\n",
        "    Inputs(inputs=784),\n",
        "    Layer(units=30, activation=Activations.relu),\n",
        "    Layer(units=15, activation=Activations.relu),\n",
        "    Layer(units=10, activation=Activations.softmax)\n",
        "])"
      ]
    },
    {
      "cell_type": "code",
      "execution_count": 4,
      "id": "29fd3b2d",
      "metadata": {
        "colab": {
          "base_uri": "https://localhost:8080/",
          "height": 442
        },
        "id": "29fd3b2d",
        "outputId": "49a12e29-3144-4180-d376-0f239a00288d"
      },
      "outputs": [
        {
          "name": "stdout",
          "output_type": "stream",
          "text": [
            "Epoch   1 ⫸ Cost 0.27904 ⫷\n",
            "Epoch   2 ⫸ Cost 0.10098 ⫷\n",
            "Epoch   3 ⫸ Cost 0.06883 ⫷\n",
            "Epoch   4 ⫸ Cost 0.05499 ⫷\n",
            "Epoch   5 ⫸ Cost 0.04238 ⫷\n",
            "Epoch   6 ⫸ Cost 0.03141 ⫷\n",
            "Epoch   7 ⫸ Cost 0.02639 ⫷\n",
            "Epoch   8 ⫸ Cost 0.02191 ⫷\n",
            "Epoch   9 ⫸ Cost 0.01826 ⫷\n",
            "Epoch  10 ⫸ Cost 0.01357 ⫷\n",
            "Epoch  11 ⫸ Cost 0.01065 ⫷\n",
            "Epoch  12 ⫸ Cost 0.00729 ⫷\n",
            "Epoch  13 ⫸ Cost 0.00678 ⫷\n",
            "Epoch  14 ⫸ Cost 0.00451 ⫷\n",
            "Epoch  15 ⫸ Cost 0.00306 ⫷\n",
            "Epoch  16 ⫸ Cost 0.00235 ⫷\n",
            "Epoch  17 ⫸ Cost 0.00248 ⫷\n",
            "Epoch  18 ⫸ Cost 0.00162 ⫷\n",
            "Epoch  19 ⫸ Cost 0.00159 ⫷\n",
            "Epoch  20 ⫸ Cost 0.00107 ⫷\n",
            "Epoch  21 ⫸ Cost 0.00083 ⫷\n",
            "Epoch  22 ⫸ Cost 0.00063 ⫷\n",
            "Epoch  23 ⫸ Cost 0.00056 ⫷\n",
            "Epoch  24 ⫸ Cost 0.00048 ⫷\n",
            "Epoch  25 ⫸ Cost 0.00042 ⫷\n",
            "Epoch  26 ⫸ Cost 0.00040 ⫷\n",
            "Epoch  27 ⫸ Cost 0.00034 ⫷\n",
            "Epoch  28 ⫸ Cost 0.00034 ⫷\n",
            "Epoch  29 ⫸ Cost 0.00031 ⫷\n",
            "Epoch  30 ⫸ Cost 0.00028 ⫷\n",
            "Epoch  31 ⫸ Cost 0.00027 ⫷\n",
            "Epoch  32 ⫸ Cost 0.00025 ⫷\n",
            "Epoch  33 ⫸ Cost 0.00024 ⫷\n",
            "Epoch  34 ⫸ Cost 0.00022 ⫷\n",
            "Epoch  35 ⫸ Cost 0.00021 ⫷\n",
            "Epoch  36 ⫸ Cost 0.00020 ⫷\n",
            "Epoch  37 ⫸ Cost 0.00019 ⫷\n",
            "Epoch  38 ⫸ Cost 0.00018 ⫷\n",
            "Epoch  39 ⫸ Cost 0.00018 ⫷\n",
            "Epoch  40 ⫸ Cost 0.00017 ⫷\n",
            "Epoch  41 ⫸ Cost 0.00016 ⫷\n",
            "Epoch  42 ⫸ Cost 0.00016 ⫷\n",
            "Epoch  43 ⫸ Cost 0.00015 ⫷\n",
            "Epoch  44 ⫸ Cost 0.00015 ⫷\n",
            "Epoch  45 ⫸ Cost 0.00014 ⫷\n",
            "Epoch  46 ⫸ Cost 0.00014 ⫷\n",
            "Epoch  47 ⫸ Cost 0.00013 ⫷\n",
            "Epoch  48 ⫸ Cost 0.00013 ⫷\n",
            "Epoch  49 ⫸ Cost 0.00012 ⫷\n",
            "Epoch  50 ⫸ Cost 0.00012 ⫷\n",
            "Epoch  51 ⫸ Cost 0.00012 ⫷\n",
            "Epoch  52 ⫸ Cost 0.00011 ⫷\n",
            "Epoch  53 ⫸ Cost 0.00011 ⫷\n",
            "Epoch  54 ⫸ Cost 0.00011 ⫷\n",
            "Epoch  55 ⫸ Cost 0.00010 ⫷\n",
            "Epoch  56 ⫸ Cost 0.00010 ⫷\n",
            "Epoch  57 ⫸ Cost 0.00010 ⫷\n",
            "Epoch  58 ⫸ Cost 0.00010 ⫷\n",
            "Epoch  59 ⫸ Cost 0.00009 ⫷\n",
            "Epoch  60 ⫸ Cost 0.00009 ⫷\n",
            "Epoch  61 ⫸ Cost 0.00009 ⫷\n",
            "Epoch  62 ⫸ Cost 0.00009 ⫷\n",
            "Epoch  63 ⫸ Cost 0.00009 ⫷\n",
            "Epoch  64 ⫸ Cost 0.00008 ⫷\n",
            "Epoch  65 ⫸ Cost 0.00008 ⫷\n",
            "Epoch  66 ⫸ Cost 0.00008 ⫷\n",
            "Epoch  67 ⫸ Cost 0.00008 ⫷\n",
            "Epoch  68 ⫸ Cost 0.00008 ⫷\n",
            "Epoch  69 ⫸ Cost 0.00008 ⫷\n",
            "Epoch  70 ⫸ Cost 0.00007 ⫷\n",
            "Epoch  71 ⫸ Cost 0.00007 ⫷\n",
            "Epoch  72 ⫸ Cost 0.00007 ⫷\n",
            "Epoch  73 ⫸ Cost 0.00007 ⫷\n",
            "Epoch  74 ⫸ Cost 0.00007 ⫷\n",
            "Epoch  75 ⫸ Cost 0.00007 ⫷\n",
            "Epoch  76 ⫸ Cost 0.00007 ⫷\n",
            "Epoch  77 ⫸ Cost 0.00006 ⫷\n",
            "Epoch  78 ⫸ Cost 0.00006 ⫷\n",
            "Epoch  79 ⫸ Cost 0.00006 ⫷\n",
            "Epoch  80 ⫸ Cost 0.00006 ⫷\n",
            "Epoch  81 ⫸ Cost 0.00006 ⫷\n",
            "Epoch  82 ⫸ Cost 0.00006 ⫷\n",
            "Epoch  83 ⫸ Cost 0.00006 ⫷\n",
            "Epoch  84 ⫸ Cost 0.00006 ⫷\n",
            "Epoch  85 ⫸ Cost 0.00006 ⫷\n",
            "Epoch  86 ⫸ Cost 0.00006 ⫷\n",
            "Epoch  87 ⫸ Cost 0.00005 ⫷\n",
            "Epoch  88 ⫸ Cost 0.00005 ⫷\n",
            "Epoch  89 ⫸ Cost 0.00005 ⫷\n",
            "Epoch  90 ⫸ Cost 0.00005 ⫷\n",
            "Epoch  91 ⫸ Cost 0.00005 ⫷\n",
            "Epoch  92 ⫸ Cost 0.00005 ⫷\n",
            "Epoch  93 ⫸ Cost 0.00005 ⫷\n",
            "Epoch  94 ⫸ Cost 0.00005 ⫷\n",
            "Epoch  95 ⫸ Cost 0.00005 ⫷\n",
            "Epoch  96 ⫸ Cost 0.00005 ⫷\n",
            "Epoch  97 ⫸ Cost 0.00005 ⫷\n",
            "Epoch  98 ⫸ Cost 0.00005 ⫷\n",
            "Epoch  99 ⫸ Cost 0.00005 ⫷\n",
            "Epoch 100 ⫸ Cost 0.00005 ⫷\n"
          ]
        },
        {
          "data": {
            "image/png": "[encoded data removed]",
            "text/plain": [
              "<Figure size 432x288 with 1 Axes>"
            ]
          },
          "metadata": {
            "needs_background": "light"
          },
          "output_type": "display_data"
        }
      ],
      "source": [
        "cost_history = my_model.fit(x_data_scaled,y_data,\n",
        "                            cost_function=CategoricalCrossEntropy,\n",
        "                            epochs=100,\n",
        "                            alpha=0.3,\n",
        "                            lambda_=0,\n",
        "                            batch_size=50,\n",
        "                            plot_cost=True)\n"
      ]
    },
    {
      "cell_type": "code",
      "execution_count": 5,
      "id": "f2fef149",
      "metadata": {
        "colab": {
          "base_uri": "https://localhost:8080/"
        },
        "id": "f2fef149",
        "outputId": "2950ca0a-fb56-4830-ee28-2495f96adbfc"
      },
      "outputs": [
        {
          "name": "stdout",
          "output_type": "stream",
          "text": [
            "Training accuracy: 100.0\n"
          ]
        }
      ],
      "source": [
        "predictions = my_model.predict(x_data_scaled)\n",
        "yhat_train = np.argmax(predictions,axis=1)\n",
        "acc_train = Metrics.classifier_accuracy(yhat_train.reshape(-1,1), y_data)\n",
        "print(f'Training accuracy: {acc_train}')"
      ]
    },
    {
      "cell_type": "code",
      "execution_count": 6,
      "id": "wIxdVTF43esf",
      "metadata": {
        "colab": {
          "base_uri": "https://localhost:8080/",
          "height": 562
        },
        "id": "wIxdVTF43esf",
        "outputId": "5c9b7b32-9d51-43d5-dbcf-53a50fc4bac4"
      },
      "outputs": [
        {
          "data": {
            "image/png": "[encoded data removed]",
            "text/plain": [
              "<Figure size 432x432 with 2 Axes>"
            ]
          },
          "metadata": {
            "needs_background": "light"
          },
          "output_type": "display_data"
        },
        {
          "name": "stdout",
          "output_type": "stream",
          "text": [
            "1.0 1.0\n"
          ]
        }
      ],
      "source": [
        "confusion,p,r = Metrics.confusion_matrix(yhat_train,y_data,metrics=True)\n",
        "print(p,r)"
      ]
    },
    {
      "cell_type": "code",
      "execution_count": 7,
      "id": "2af5a266",
      "metadata": {},
      "outputs": [
        {
          "name": "stdout",
          "output_type": "stream",
          "text": [
            "Train data: (10000, 784)\n"
          ]
        }
      ],
      "source": [
        "x_test = Utilities.load_data('../data/Classification_test.csv', start_x=1)\n",
        "x_test_scaled = scaler.transform(x_test)\n",
        "x_test_scaled = scaler2.transform(x_test_scaled)\n",
        "print(f'Train data: {x_test_scaled.shape}')"
      ]
    },
    {
      "cell_type": "code",
      "execution_count": 11,
      "id": "bbee80a6",
      "metadata": {},
      "outputs": [],
      "source": [
        "y_test = my_model.predict(x_test_scaled)\n",
        "y_test = np.argmax(y_test,axis=1).reshape(-1,1)\n",
        "df = pd.DataFrame(y_test, columns=['predicted value'])\n",
        "df.to_csv('Classification_result.csv', index=False)"
      ]
    }
  ],
  "metadata": {
    "colab": {
      "provenance": []
    },
    "kernelspec": {
      "display_name": "Python 3 (ipykernel)",
      "language": "python",
      "name": "python3"
    },
    "language_info": {
      "codemirror_mode": {
        "name": "ipython",
        "version": 3
      },
      "file_extension": ".py",
      "mimetype": "text/x-python",
      "name": "python",
      "nbconvert_exporter": "python",
      "pygments_lexer": "ipython3",
      "version": "3.9.6"
    }
  },
  "nbformat": 4,
  "nbformat_minor": 5
}
