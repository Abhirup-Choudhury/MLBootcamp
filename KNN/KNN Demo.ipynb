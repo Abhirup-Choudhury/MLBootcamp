{
  "cells": [
    {
      "cell_type": "code",
      "execution_count": 1,
      "metadata": {
        "id": "m1IIc_MlT83q"
      },
      "outputs": [],
      "source": [
        "import numpy as np\n",
        "import pandas as pd\n",
        "import matplotlib.pyplot as plt\n",
        "from MLLibrary import KNearestNeighbourClassifier, Utilities, StandardizationScale, Metrics"
      ]
    },
    {
      "cell_type": "code",
      "execution_count": 2,
      "metadata": {
        "id": "SXE8d8Z8XMaD"
      },
      "outputs": [
        {
          "name": "stdout",
          "output_type": "stream",
          "text": [
            "Train data: (30000, 784) (30000, 1)\n"
          ]
        }
      ],
      "source": [
        "x_data, y_data = Utilities.load_data('../data/Classification_train.csv',start_x = 1,start_y = 0,end_y = 1)\n",
        "\n",
        "print(f'Train data: {x_data.shape} {y_data.shape}')"
      ]
    },
    {
      "cell_type": "code",
      "execution_count": 3,
      "metadata": {
        "id": "gt0xwGdDXOXk"
      },
      "outputs": [
        {
          "name": "stdout",
          "output_type": "stream",
          "text": [
            "Train data: (30000, 784)\n"
          ]
        }
      ],
      "source": [
        "scaler = StandardizationScale()\n",
        "x_data_scaled = scaler.fit_transform(x_data)\n",
        "\n",
        "print(f'Train data: {x_data_scaled.shape}')"
      ]
    },
    {
      "cell_type": "code",
      "execution_count": 6,
      "metadata": {},
      "outputs": [],
      "source": [
        "model = KNearestNeighbourClassifier(K=3)\n",
        "model.fit(x_data_scaled, y_data)"
      ]
    },
    {
      "cell_type": "code",
      "execution_count": 7,
      "metadata": {},
      "outputs": [
        {
          "name": "stdout",
          "output_type": "stream",
          "text": [
            "Train data: (10000, 784)\n"
          ]
        }
      ],
      "source": [
        "x_test = Utilities.load_data('../data/Classification_test.csv', start_x=1)\n",
        "x_test_scaled = scaler.transform(x_test)\n",
        "print(f'Train data: {x_test_scaled.shape}')"
      ]
    },
    {
      "cell_type": "code",
      "execution_count": 8,
      "metadata": {},
      "outputs": [
        {
          "name": "stdout",
          "output_type": "stream",
          "text": [
            "(10000, 1)\n"
          ]
        }
      ],
      "source": [
        "y_test = model.predict(x_test_scaled)\n",
        "print(y_test.shape)\n",
        "df = pd.DataFrame(y_test, columns=['predicted value'])\n",
        "df.to_csv('Classification_result.csv', index=False)"
      ]
    }
  ],
  "metadata": {
    "colab": {
      "provenance": []
    },
    "kernelspec": {
      "display_name": "Python 3 (ipykernel)",
      "language": "python",
      "name": "python3"
    },
    "language_info": {
      "codemirror_mode": {
        "name": "ipython",
        "version": 3
      },
      "file_extension": ".py",
      "mimetype": "text/x-python",
      "name": "python",
      "nbconvert_exporter": "python",
      "pygments_lexer": "ipython3",
      "version": "3.9.6"
    }
  },
  "nbformat": 4,
  "nbformat_minor": 0
}
