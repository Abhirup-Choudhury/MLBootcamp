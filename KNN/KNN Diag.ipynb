{
  "cells": [
    {
      "cell_type": "code",
      "execution_count": 3,
      "metadata": {
        "id": "m1IIc_MlT83q"
      },
      "outputs": [],
      "source": [
        "import numpy as np\n",
        "import pandas as pd\n",
        "import matplotlib.pyplot as plt\n",
        "from MLLibrary import KNearestNeighbourClassifier, Utilities, StandardizationScale, Metrics"
      ]
    },
    {
      "cell_type": "code",
      "execution_count": 4,
      "metadata": {
        "id": "SXE8d8Z8XMaD"
      },
      "outputs": [
        {
          "name": "stdout",
          "output_type": "stream",
          "text": [
            "Train data: (21000, 784) (21000, 1)\n",
            "CV data: (9000, 784) (9000, 1)\n"
          ]
        }
      ],
      "source": [
        "x_data, y_data = Utilities.load_data('data/Classification_train.csv',start_x = 1,start_y = 0,end_y = 1)\n",
        "x_train,y_train, x_cv,y_cv = Utilities.split_data(70, x_data, y_data)\n",
        "\n",
        "print(f'Train data: {x_train.shape} {y_train.shape}')\n",
        "print(f'CV data: {x_cv.shape} {y_cv.shape}')"
      ]
    },
    {
      "cell_type": "code",
      "execution_count": 5,
      "metadata": {
        "id": "gt0xwGdDXOXk"
      },
      "outputs": [
        {
          "name": "stdout",
          "output_type": "stream",
          "text": [
            "Train data: (21000, 784)\n",
            "CV data: (9000, 784)\n"
          ]
        }
      ],
      "source": [
        "scaler = StandardizationScale()\n",
        "x_train_scaled = scaler.fit_transform(x_train)\n",
        "x_cv_scaled = scaler.transform(x_cv)\n",
        "\n",
        "print(f'Train data: {x_train_scaled.shape}')\n",
        "print(f'CV data: {x_cv_scaled.shape}')"
      ]
    },
    {
      "cell_type": "code",
      "execution_count": 15,
      "metadata": {
        "colab": {
          "base_uri": "https://localhost:8080/"
        },
        "id": "S4S5HisGXP_2",
        "outputId": "fb395aeb-ff50-4590-cbe1-849766d73737"
      },
      "outputs": [
        {
          "name": "stdout",
          "output_type": "stream",
          "text": [
            "Accuracy: 96.38\n"
          ]
        }
      ],
      "source": [
        "model = KNearestNeighbourClassifier(K=3)\n",
        "model.fit(x_train_scaled, y_train)\n",
        "yhat = model.predict(x_cv_scaled)\n",
        "\n",
        "acc = Metrics.classifier_accuracy(yhat, y_cv)\n",
        "print(f'Accuracy: {acc:.2f}')"
      ]
    },
    {
      "cell_type": "code",
      "execution_count": 7,
      "metadata": {
        "colab": {
          "base_uri": "https://localhost:8080/",
          "height": 529
        },
        "id": "Df8qSWqwkzkG",
        "outputId": "67bd26b6-34d5-441a-922e-60c3a22fd2e5"
      },
      "outputs": [
        {
          "name": "stdout",
          "output_type": "stream",
          "text": [
            "K: 3\n",
            "K: 5\n",
            "K: 8\n",
            "K: 10\n",
            "K: 20\n",
            "K: 30\n",
            "K: 40\n",
            "K: 50\n",
            "K: 80\n",
            "K: 100\n"
          ]
        }
      ],
      "source": [
        "K = [3,5,8,10,20,30,40,50,80,100]\n",
        "models = []\n",
        "accuracies = []\n",
        "for i,k in enumerate(K):\n",
        "  print(f'K: {k}')\n",
        "  models.append(KNearestNeighbourClassifier(K=k))\n",
        "  models[i].fit(x_train_scaled, y_train)\n",
        "\n",
        "  yhat = models[i].predict(x_cv_scaled)\n",
        "  accuracies.append(Metrics.classifier_accuracy(yhat, y_cv))\n"
      ]
    },
    {
      "cell_type": "code",
      "execution_count": 14,
      "metadata": {
        "colab": {
          "base_uri": "https://localhost:8080/",
          "height": 826
        },
        "id": "DlyJyokRle6s",
        "outputId": "b81b0927-7e8b-4f1b-e98c-a5e1f2b1a41c"
      },
      "outputs": [
        {
          "data": {
            "image/png": "[encoded data removed]",
            "text/plain": [
              "<Figure size 648x288 with 1 Axes>"
            ]
          },
          "metadata": {
            "needs_background": "light"
          },
          "output_type": "display_data"
        }
      ],
      "source": [
        "plt.figure(figsize=(9,4))\n",
        "plt.plot(K,accuracies)\n",
        "plt.xlabel('K values')\n",
        "plt.ylabel('Accuracy')\n",
        "plt.xticks(K)\n",
        "plt.title('K values vs Accuracy')\n",
        "plt.show()"
      ]
    }
  ],
  "metadata": {
    "colab": {
      "provenance": []
    },
    "kernelspec": {
      "display_name": "Python 3 (ipykernel)",
      "language": "python",
      "name": "python3"
    },
    "language_info": {
      "codemirror_mode": {
        "name": "ipython",
        "version": 3
      },
      "file_extension": ".py",
      "mimetype": "text/x-python",
      "name": "python",
      "nbconvert_exporter": "python",
      "pygments_lexer": "ipython3",
      "version": "3.9.6"
    }
  },
  "nbformat": 4,
  "nbformat_minor": 0
}
